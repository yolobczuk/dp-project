{
 "cells": [
  {
   "cell_type": "code",
   "execution_count": 26,
   "id": "05e76674",
   "metadata": {},
   "outputs": [],
   "source": [
    "import pandas as pd\n",
    "import numpy as np\n",
    "from sklearn.impute import KNNImputer"
   ]
  },
  {
   "cell_type": "code",
   "execution_count": 27,
   "id": "0997f280",
   "metadata": {},
   "outputs": [],
   "source": [
    "piwo = pd.read_csv('piwo_dane.csv', sep=\" \")"
   ]
  },
  {
   "cell_type": "code",
   "execution_count": 28,
   "id": "57b2c801",
   "metadata": {},
   "outputs": [],
   "source": [
    "piwo_imp = piwo.drop(columns = ['SugarScale','BrewMethod','Style','UserId'])"
   ]
  },
  {
   "cell_type": "code",
   "execution_count": 29,
   "id": "31bf9fa9",
   "metadata": {},
   "outputs": [],
   "source": [
    "knn_imp = KNNImputer(n_neighbors = round(np.sqrt(piwo.shape[0])))\n",
    "piwo_imp = pd.DataFrame(knn_imp.fit_transform(piwo_imp))\n",
    "piwo_imp.columns = piwo.drop(columns = ['SugarScale','BrewMethod','Style','UserId']).columns"
   ]
  },
  {
   "cell_type": "code",
   "execution_count": 30,
   "id": "566eb7c3",
   "metadata": {},
   "outputs": [],
   "source": [
    "piwo_kat = piwo[['SugarScale','BrewMethod','Style','UserId']]"
   ]
  },
  {
   "cell_type": "code",
   "execution_count": 48,
   "id": "f6833c35",
   "metadata": {},
   "outputs": [],
   "source": [
    "piwo_imp2 = piwo_kat.join(piwo_imp)"
   ]
  },
  {
   "cell_type": "code",
   "execution_count": 51,
   "id": "8aa2be43",
   "metadata": {},
   "outputs": [],
   "source": [
    "piwo_imp2.to_csv('piwo_dane_zimputowane.csv', index= False)"
   ]
  },
  {
   "cell_type": "code",
   "execution_count": null,
   "id": "53fb0429",
   "metadata": {},
   "outputs": [],
   "source": []
  }
 ],
 "metadata": {
  "kernelspec": {
   "display_name": "Python 3",
   "language": "python",
   "name": "python3"
  },
  "language_info": {
   "codemirror_mode": {
    "name": "ipython",
    "version": 3
   },
   "file_extension": ".py",
   "mimetype": "text/x-python",
   "name": "python",
   "nbconvert_exporter": "python",
   "pygments_lexer": "ipython3",
   "version": "3.8.8"
  }
 },
 "nbformat": 4,
 "nbformat_minor": 5
}
